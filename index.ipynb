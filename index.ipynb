{
 "cells": [
  {
   "cell_type": "markdown",
   "metadata": {},
   "source": [
    "# MicaSense Image Processing Tutorials \n",
    "\n",
    "This repository includes tutorials and examples for processing MicaSense RedEdge and MicaSense Altum images into usable information using the python programming language.  The intended audience is researchers and engineers with some software development experience that want to do their own image processing.  While a number of commercial tools fully support processing RedEdge data into reflectance maps, there are a number of reasons to process your own data, including controlling the entire radiometric workflow (for academic or publication reasons), pre-processing images to be used in a non-radiometric photogrammetry suite, or processing single sets of 5 images without building a larger map.\n",
    "\n",
    "To get started, browse the examples below, and then head over to the [git repository](https://github.com/micasense/imageprocessing) to check out the code.\n",
    "\n",
    "## Tutorial Articles\n",
    "\n",
    "### Setup\n",
    "\n",
    "The setup tutorial will get you setup with the right tools to run these notebooks yourself.\n",
    "\n",
    "* [MicaSense Image Processing Setup](MicaSense%20Image%20Processing%20Setup.html)\n",
    "\n",
    "### Fundamentals\n",
    "\n",
    "* [Basic Radiometric Corrections](MicaSense%20Image%20Processing%20Tutorial%201.html)\n",
    "* [Advanced DLS1 Processing](MicaSense%20Image%20Processing%20Tutorial%203.html)\n",
    "\n",
    "### micasense Library Usage\n",
    "\n",
    "* [MicaSense Library Introduction](MicaSense%20Image%20Processing%20Tutorial%202.html)\n",
    "* [Image Class Extended Examples](Images.html)\n",
    "* [Capture Class Examples](Captures.html)\n",
    "* [ImageSet Examples](ImageSets.html)\n",
    "* [Panels Example](Panels.html)\n",
    "\n",
    "### Advanced Analysis\n",
    "* [Capture Alignment and Analysis Examples](Alignment.html)\n",
    "* [Capture Alignment Using Rig Relatives](Alignment-RigRelatives.html)\n",
    "* [Batch processing into stacked TIFFs](Batch%20Processing.html)\n",
    "\n",
    "### 10-Band (Dual Camera) Examples\n",
    "* [10-band Capture Alignment](Alignment-10Band.html)\n",
    "* [Batch Processing-10Band](Batch%20Processing-10Band.html)\n"
   ]
  },
  {
   "cell_type": "markdown",
   "metadata": {},
   "source": [
    "---\n",
    "Copyright (c) 2017-2019 MicaSense, Inc.  For licensing information see the [project git repository](https://github.com/micasense/imageprocessing)"
   ]
  }
 ],
 "metadata": {
  "kernelspec": {
   "display_name": "Python 3",
   "language": "python",
   "name": "python3"
  },
  "language_info": {
   "codemirror_mode": {
    "name": "ipython",
    "version": 3
   },
   "file_extension": ".py",
   "mimetype": "text/x-python",
   "name": "python",
   "nbconvert_exporter": "python",
   "pygments_lexer": "ipython3",
   "version": "3.7.12"
  }
 },
 "nbformat": 4,
 "nbformat_minor": 2
}
